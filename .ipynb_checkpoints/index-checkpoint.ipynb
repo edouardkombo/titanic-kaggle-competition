{
 "cells": [
  {
   "cell_type": "code",
   "execution_count": null,
   "metadata": {},
   "outputs": [
    {
     "data": {
      "application/vnd.jupyter.widget-view+json": {
       "model_id": "800e121fc2e246a782c468fdd2d29822",
       "version_major": 2,
       "version_minor": 0
      },
      "text/plain": [
       "HBox(children=(FloatProgress(value=0.0, description='Summarize dataset', max=27.0, style=ProgressStyle(descrip…"
      ]
     },
     "metadata": {},
     "output_type": "display_data"
    },
    {
     "name": "stdout",
     "output_type": "stream",
     "text": [
      "\n"
     ]
    },
    {
     "data": {
      "application/vnd.jupyter.widget-view+json": {
       "model_id": "29b7de48da754ac0a465db789c4cc942",
       "version_major": 2,
       "version_minor": 0
      },
      "text/plain": [
       "HBox(children=(FloatProgress(value=0.0, description='Generate report structure', max=1.0, style=ProgressStyle(…"
      ]
     },
     "metadata": {},
     "output_type": "display_data"
    }
   ],
   "source": [
    "import pandas as pd\n",
    "import numpy as np\n",
    "import matplotlib.pyplot as plt\n",
    "import seaborn as sns\n",
    "\n",
    "from pandas_profiling import ProfileReport\n",
    "from matplotlib_venn import venn2\n",
    "from matplotlib.pyplot import figure\n",
    "\n",
    "%run utils.ipynb\n",
    "%run predict.ipynb\n",
    "\n",
    "figure(num=None, figsize=(20, 16), dpi=80, facecolor='w', edgecolor='k')\n",
    "\n",
    "df = pd.read_csv('./data/train.csv')\n",
    "\n",
    "# First we perform an explorative data analysis\n",
    "# profile = ProfileReport(df, title='Titanic raw data analysis', explorative=True)\n",
    "# profile.to_widgets() # gross overview\n",
    "# profile.to_file('./analysis/pandas-analysis.html')\n",
    "\n",
    "\n",
    "# Clean data\n",
    "df = clean_data(df)\n",
    "\n",
    "# sns.catplot('Survived', 'Age', kind='point', data=df)\n",
    "# plt.show()\n",
    "\n",
    "\n",
    "# Make all values numeric\n",
    "# Sex (0 => male, 1 => female)\n",
    "# Title (0 => Mr, 1 => Miss, 2 => Mrs)\n",
    "# Age (    \n",
    "    # 0 => infant <= 2\n",
    "    # 1 => toddler <= 4\n",
    "    # 2 => child <= 12\n",
    "    # 3 => teen <= 18\n",
    "    # 4 => young adult <= 25\n",
    "    # 5 => adult <= 35\n",
    "    # 6 => senior <= 55\n",
    "    # 7 => old 35 - 55\n",
    "    # 8 => elderly 55 - 150\n",
    "# )\n",
    "# Fare Group (0 => <10$, 1 => <10, 2 => <20, 3 => <50, 4 => 5000)\n",
    "df = numerize_data(df)\n",
    "\n",
    "# profile = ProfileReport(df, title='Titanic raw data analysis', explorative=True)\n",
    "# profile.to_file('./analysis/pandas-analysis4.html')\n",
    "# print(df)\n",
    "autoMlPredict(df)\n",
    "\n",
    "# print(df)\n"
   ]
  },
  {
   "cell_type": "code",
   "execution_count": null,
   "metadata": {},
   "outputs": [],
   "source": []
  }
 ],
 "metadata": {
  "kernelspec": {
   "display_name": "Python 3",
   "language": "python",
   "name": "python3"
  },
  "language_info": {
   "codemirror_mode": {
    "name": "ipython",
    "version": 3
   },
   "file_extension": ".py",
   "mimetype": "text/x-python",
   "name": "python",
   "nbconvert_exporter": "python",
   "pygments_lexer": "ipython3",
   "version": "3.6.11"
  }
 },
 "nbformat": 4,
 "nbformat_minor": 4
}
