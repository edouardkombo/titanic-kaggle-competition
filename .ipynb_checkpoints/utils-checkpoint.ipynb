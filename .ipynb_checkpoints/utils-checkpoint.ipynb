{
 "cells": [
  {
   "cell_type": "code",
   "execution_count": 1,
   "metadata": {},
   "outputs": [],
   "source": [
    "import pandas as pd\n",
    "\n",
    "# We drop duplicates and columns with low correlation\n",
    "def clean_data(data):\n",
    "    data = data.drop(['PassengerId', 'Cabin'], axis=True)\n",
    "    data['Age'].fillna(data['Age'].dropna().mean(), inplace=True)\n",
    "    data['Embarked'].fillna('Q', inplace=True)\n",
    "    data = data.drop_duplicates()\n",
    "    return data\n",
    "    \n",
    "# It is simpler to work with numeric values    \n",
    "def numerize_data(data):\n",
    "    data.loc[data['Sex']=='male', 'Sex'] = 0\n",
    "    data.loc[data['Sex']=='female', 'Sex'] = 1\n",
    "    \n",
    "    data.loc[data['Name'].str.find('Mr.')>-1, 'Name'] = 0\n",
    "    data.loc[data['Name'].str.find('Master.')>-1, 'Name'] = 0\n",
    "    data.loc[data['Name'].str.find('Miss.')>-1, 'Name'] = 1\n",
    "    data.loc[data['Name'].str.find('Mrs.')>-1, 'Name'] = 2\n",
    "    data.loc[data['Sex']==0, 'Name'] = 0\n",
    "    data.loc[data['Sex']==1, 'Name'] = 2\n",
    "    \n",
    "    data['Age'] = pd.cut(data['Age'], bins=[0,2,4,12,18,25,35,55,100], labels=[0,1,2,3,4,5,6,7])\n",
    "    \n",
    "    data['FamilySize'] = data['SibSp'] + data['Parch']\n",
    "    \n",
    "    fare_bins = [0, 10, 20, 50, 5000]\n",
    "    fare_names = [0, 1, 2, 3, 4]\n",
    "    fare_d = dict(enumerate(fare_names, 1))\n",
    "    data['FareGroup'] = np.vectorize(fare_d.get)(np.digitize(data['Fare'], fare_bins))\n",
    "    \n",
    "    return data"
   ]
  },
  {
   "cell_type": "code",
   "execution_count": null,
   "metadata": {},
   "outputs": [],
   "source": []
  }
 ],
 "metadata": {
  "kernelspec": {
   "display_name": "Python 3",
   "language": "python",
   "name": "python3"
  },
  "language_info": {
   "codemirror_mode": {
    "name": "ipython",
    "version": 3
   },
   "file_extension": ".py",
   "mimetype": "text/x-python",
   "name": "python",
   "nbconvert_exporter": "python",
   "pygments_lexer": "ipython3",
   "version": "3.6.11"
  }
 },
 "nbformat": 4,
 "nbformat_minor": 4
}
