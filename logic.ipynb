{
 "cells": [
  {
   "cell_type": "code",
   "execution_count": 50,
   "metadata": {},
   "outputs": [
    {
     "name": "stdout",
     "output_type": "stream",
     "text": [
      "    Pclass Sex    Age            Ticket   Fare\n",
      "0        3   1  20-30         A/5 21171    <10\n",
      "1        1   0  30-40          PC 17599    50+\n",
      "2        3   0  20-30  STON/O2. 3101282    <10\n",
      "3        1   0  30-40            113803    50+\n",
      "4        3   1  30-40            373450    <10\n",
      "..     ...  ..    ...               ...    ...\n",
      "871      2   1  20-30            211536  10-20\n",
      "872      1   0  10-20            112053  20-50\n",
      "873      3   0  20-30        W./C. 6607  20-50\n",
      "874      1   1  20-30            111369  20-50\n",
      "875      3   1  30-40            370376    <10\n",
      "\n",
      "[876 rows x 5 columns]\n",
      "Create directory AutoML_18\n",
      "AutoML task to be solved: binary_classification\n",
      "AutoML will use algorithms: ['Decision Tree', 'Linear', 'Random Forest', 'Extra Trees', 'CatBoost', 'Neural Network', 'Nearest Neighbors']\n",
      "AutoML will optimize for metric: logloss\n"
     ]
    },
    {
     "name": "stderr",
     "output_type": "stream",
     "text": [
      "Passing parameters norm and vmin/vmax simultaneously is deprecated since 3.3 and will become an error two minor releases later. Please pass vmin/vmax directly to the norm when creating it.\n"
     ]
    },
    {
     "name": "stdout",
     "output_type": "stream",
     "text": [
      "1_DecisionTree final logloss 0.4434609622032429 time 5.18 seconds\n"
     ]
    },
    {
     "name": "stderr",
     "output_type": "stream",
     "text": [
      "Passing parameters norm and vmin/vmax simultaneously is deprecated since 3.3 and will become an error two minor releases later. Please pass vmin/vmax directly to the norm when creating it.\n"
     ]
    },
    {
     "name": "stdout",
     "output_type": "stream",
     "text": [
      "2_Linear final logloss 0.394748027609029 time 2.33 seconds\n"
     ]
    },
    {
     "name": "stderr",
     "output_type": "stream",
     "text": [
      "Passing parameters norm and vmin/vmax simultaneously is deprecated since 3.3 and will become an error two minor releases later. Please pass vmin/vmax directly to the norm when creating it.\n"
     ]
    },
    {
     "name": "stdout",
     "output_type": "stream",
     "text": [
      "3_Default_RandomForest final logloss 0.3920837335816453 time 2.91 seconds\n"
     ]
    },
    {
     "name": "stderr",
     "output_type": "stream",
     "text": [
      "Passing parameters norm and vmin/vmax simultaneously is deprecated since 3.3 and will become an error two minor releases later. Please pass vmin/vmax directly to the norm when creating it.\n"
     ]
    },
    {
     "name": "stdout",
     "output_type": "stream",
     "text": [
      "4_Default_ExtraTrees final logloss 0.4045916859071745 time 3.67 seconds\n",
      "5_Default_CatBoost final logloss 0.3552850790389562 time 0.23 seconds\n",
      "6_Default_NeuralNetwork final logloss 0.3919646383906114 time 1.78 seconds\n",
      "Exception while producing SHAP explanations. 'NoneType' object has no attribute 'shap_values'\n",
      "Continuing ...\n",
      "7_Default_NearestNeighbors final logloss 0.7624444971539572 time 0.62 seconds\n",
      "Ensemble final logloss 0.35528430783258796 time 0.53 seconds\n",
      "    Predicted  Survived     Score\n",
      "0           1         1  0.795455\n",
      "1           0         0  0.795455\n",
      "2           0         0  0.795455\n",
      "3           1         1  0.795455\n",
      "4           0         0  0.795455\n",
      "..        ...       ...       ...\n",
      "83          1         1  0.795455\n",
      "84          0         0  0.795455\n",
      "85          0         1  0.795455\n",
      "86          0         1  0.795455\n",
      "87          1         1  0.795455\n",
      "\n",
      "[88 rows x 3 columns]\n",
      "Test MSE: 0.20454545454545456\n"
     ]
    }
   ],
   "source": [
    "import pandas as pd\n",
    "import numpy as np\n",
    "from pandas_profiling import ProfileReport\n",
    "from supervised.automl import AutoML\n",
    "from sklearn import datasets\n",
    "from sklearn.metrics import accuracy_score, mean_squared_error\n",
    "from sklearn.model_selection import train_test_split\n",
    "\n",
    "df = pd.read_csv('./data/train.csv')\n",
    "\n",
    "# First we perform an explorative data analysis\n",
    "# profile = ProfileReport(df, title='Titanic raw data analysis', explorative=True)\n",
    "# profile.to_widgets() # gross overview\n",
    "# profile.to_file('./analysis/pandas-analysis.html')\n",
    "\n",
    "# From analysis, we\n",
    "# 1. Drop PassengerId and Name columns as they contain only unique values, we drop cabin has it brings low significance to data\n",
    "df = df.drop(['PassengerId', 'Name', 'Cabin'], axis=True)\n",
    "df['Sex'] = df['Sex'].apply(lambda x: 0 if 'female' in x else 1 if 'male' in x else x)\n",
    "\n",
    "# We found duplicates, we have to remove them\n",
    "df = df.drop_duplicates()\n",
    "\n",
    "# We re-perform an explorative data analysis\n",
    "# profile = ProfileReport(df, title='Titanic raw data analysis', explorative=True)\n",
    "# # profile.to_widgets() # gross overview\n",
    "# profile.to_file('./analysis/pandas-analysis-2.html')\n",
    "\n",
    "# Fare has the highest correlation with survival rate, but has high cardinality, so we categorize\n",
    "fare_bins = [0, 10, 20, 50]\n",
    "fare_names = ['<10', '10-20', '20-50', '50+']\n",
    "fare_d = dict(enumerate(fare_names, 1))\n",
    "df['Fare'] = np.vectorize(fare_d.get)(np.digitize(df['Fare'], fare_bins))\n",
    "\n",
    "# We fill missing age values with mean of other columns\n",
    "df['Age'].fillna(df['Age'].mean(), inplace=True)\n",
    "\n",
    "# We fill missing of embarked randomly, there is no significance\n",
    "df['Embarked'].fillna('Q', inplace=True)\n",
    "\n",
    "# We categorize age to find a better significance\n",
    "age_bins = [0, 10, 20, 30, 40,50]\n",
    "age_names = ['<10', '10-20', '20-30', '30-40', '40-50', '50+']\n",
    "age_d = dict(enumerate(age_names, 1))\n",
    "df['Age'] = np.vectorize(age_d.get)(np.digitize(df['Age'], age_bins))\n",
    "\n",
    "\n",
    "# Convert data\n",
    "df['Pclass'] = df['Pclass'].astype(int)\n",
    "df['Sex'] = df['Sex'].astype(int)\n",
    "df['SibSp'] = df['SibSp'].astype(int)\n",
    "df['Parch'] = df['Parch'].astype(int)\n",
    "\n",
    "df.reset_index(drop=True, inplace=True)\n",
    "\n",
    "# We re-perform an explorative data analysis\n",
    "# profile = ProfileReport(df, title='Titanic raw data analysis 3', explorative=True)\n",
    "# profile.to_widgets() # gross overview\n",
    "# profile.to_file('./analysis/pandas-analysis-3.html')\n",
    "\n",
    "# Start training\n",
    "X = pd.DataFrame(df.drop(['Survived','SibSp','Parch','Embarked'], axis=True).values, columns=['Pclass', 'Sex', 'Age', 'Ticket', 'Fare'])\n",
    "y = pd.Series(df['Survived'].values, name='Survived')\n",
    "\n",
    "X_train, X_test, y_train, y_test = train_test_split(X, y, test_size=0.1, random_state=123)\n",
    "print(X)\n",
    "automl = AutoML(algorithms=['Decision Tree', 'Linear', 'Random Forest','Extra Trees','CatBoost','Neural Network','Nearest Neighbors'],total_time_limit=5*60)\n",
    "automl.fit(X_train, y_train)\n",
    "\n",
    "y_predicted = automl.predict(X_test)\n",
    "score = accuracy_score(y_test, y_predicted[\"label\"].astype(int))\n",
    "\n",
    "print(pd.DataFrame({'Predicted': y_predicted['label'], 'Survived': np.array(y_test), 'Score': score}))\n",
    "print(\"Test MSE:\", mean_squared_error(y_test, y_predicted[\"label\"]))"
   ]
  },
  {
   "cell_type": "code",
   "execution_count": null,
   "metadata": {},
   "outputs": [],
   "source": []
  },
  {
   "cell_type": "code",
   "execution_count": null,
   "metadata": {},
   "outputs": [],
   "source": []
  }
 ],
 "metadata": {
  "kernelspec": {
   "display_name": "Python 3",
   "language": "python",
   "name": "python3"
  },
  "language_info": {
   "codemirror_mode": {
    "name": "ipython",
    "version": 3
   },
   "file_extension": ".py",
   "mimetype": "text/x-python",
   "name": "python",
   "nbconvert_exporter": "python",
   "pygments_lexer": "ipython3",
   "version": "3.6.11"
  }
 },
 "nbformat": 4,
 "nbformat_minor": 4
}
