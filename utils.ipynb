{
 "cells": [
  {
   "cell_type": "code",
   "execution_count": 1,
   "metadata": {},
   "outputs": [],
   "source": [
    "import pandas as pd\n",
    "import numpy as np\n",
    "import seaborn as sns\n",
    "\n",
    "from numpy import mean\n",
    "from matplotlib_venn import venn2\n",
    "from matplotlib.pyplot import figure\n",
    "\n",
    "def save_predictions(data, file_name):\n",
    "    df = pd.read_csv('./data/gender_submission.csv')\n",
    "    df['Survived'] = data\n",
    "    return df.to_csv(file_name, index=False)\n",
    "\n",
    "def correlation_graph(data):\n",
    "    corr = data.corr()\n",
    "    mask = np.triu(np.ones_like(corr, dtype=np.bool)) # Generate a mask for the upper triangle\n",
    "    cmap = sns.diverging_palette(290, 10, as_cmap=True) # Generate a custom diverging colormap\n",
    "    sns.heatmap(corr, mask=mask, cmap=cmap, vmax=.6, center=0,\n",
    "            square=True, linewidths=.5, cbar_kws={\"shrink\": .9}) # Draw the heatmap with the mask and correct aspect ratio\n"
   ]
  },
  {
   "cell_type": "code",
   "execution_count": null,
   "metadata": {},
   "outputs": [],
   "source": []
  }
 ],
 "metadata": {
  "kernelspec": {
   "display_name": "Python 3",
   "language": "python",
   "name": "python3"
  },
  "language_info": {
   "codemirror_mode": {
    "name": "ipython",
    "version": 3
   },
   "file_extension": ".py",
   "mimetype": "text/x-python",
   "name": "python",
   "nbconvert_exporter": "python",
   "pygments_lexer": "ipython3",
   "version": "3.6.11"
  }
 },
 "nbformat": 4,
 "nbformat_minor": 4
}
