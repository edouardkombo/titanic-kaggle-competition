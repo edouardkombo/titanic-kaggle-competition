{
 "cells": [
  {
   "cell_type": "code",
   "execution_count": 1,
   "metadata": {},
   "outputs": [],
   "source": [
    "import pandas as pd\n",
    "from supervised.automl import AutoML\n",
    "from sklearn import datasets\n",
    "from sklearn.metrics import accuracy_score, mean_squared_error\n",
    "from sklearn.model_selection import train_test_split\n",
    "\n",
    "def autoMlPredict(data):\n",
    "    # Start training\n",
    "    X = pd.DataFrame(data.drop([], axis=True).values, columns=data.drop([], axis=True).columns)\n",
    "    y = pd.Series(data['Survived'].values, name='Survived')\n",
    "\n",
    "    X_train, X_test, y_train, y_test = train_test_split(X, y, test_size=0.47, random_state=123, stratify=y)\n",
    "#     print(X)\n",
    "    automl = AutoML(algorithms=['CatBoost'],total_time_limit=5*60)\n",
    "#     automl = AutoML(mode='Compete')\n",
    "    automl.fit(X_train, y_train)\n",
    "\n",
    "    y_predicted = automl.predict(X_test)\n",
    "    score = accuracy_score(y_test, y_predicted[\"label\"].astype(int))\n",
    "\n",
    "    print(len(y_predicted['label']))\n",
    "    print(pd.DataFrame({'Predicted': y_predicted['label'], 'Survived': np.array(y_test), 'Score': score}))\n",
    "    print(\"Test MSE:\", mean_squared_error(y_test, y_predicted[\"label\"]))\n",
    "    return y_predicted['label']"
   ]
  },
  {
   "cell_type": "code",
   "execution_count": null,
   "metadata": {},
   "outputs": [],
   "source": []
  }
 ],
 "metadata": {
  "kernelspec": {
   "display_name": "Python 3",
   "language": "python",
   "name": "python3"
  },
  "language_info": {
   "codemirror_mode": {
    "name": "ipython",
    "version": 3
   },
   "file_extension": ".py",
   "mimetype": "text/x-python",
   "name": "python",
   "nbconvert_exporter": "python",
   "pygments_lexer": "ipython3",
   "version": "3.6.9"
  }
 },
 "nbformat": 4,
 "nbformat_minor": 4
}
